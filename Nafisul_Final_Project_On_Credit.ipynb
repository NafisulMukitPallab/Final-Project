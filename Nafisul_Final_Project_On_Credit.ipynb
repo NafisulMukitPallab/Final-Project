{
  "nbformat": 4,
  "nbformat_minor": 0,
  "metadata": {
    "colab": {
      "name": "Nafisul_Final Project_On Credit.ipynb",
      "provenance": [],
      "authorship_tag": "ABX9TyMnTgAR7Z12RQYXhMgpNKAY",
      "include_colab_link": true
    },
    "kernelspec": {
      "name": "python3",
      "display_name": "Python 3"
    },
    "language_info": {
      "name": "python"
    }
  },
  "cells": [
    {
      "cell_type": "markdown",
      "metadata": {
        "id": "view-in-github",
        "colab_type": "text"
      },
      "source": [
        "<a href=\"https://colab.research.google.com/github/NafisulMukitPallab/Final-Project/blob/main/Nafisul_Final_Project_On_Credit.ipynb\" target=\"_parent\"><img src=\"https://colab.research.google.com/assets/colab-badge.svg\" alt=\"Open In Colab\"/></a>"
      ]
    },
    {
      "cell_type": "code",
      "execution_count": 1,
      "metadata": {
        "id": "NWZsByOE8dc1"
      },
      "outputs": [],
      "source": [
        "import numpy as np \n",
        "import pandas as pd \n",
        "import os\n",
        "import seaborn as sns\n",
        "import matplotlib.pyplot as plt\n",
        "import warnings\n",
        "warnings.filterwarnings('ignore')\n",
        "from sklearn.model_selection import train_test_split\n",
        "import tqdm\n",
        "from imblearn.datasets import make_imbalance\n",
        "from imblearn.over_sampling import SMOTE"
      ]
    },
    {
      "cell_type": "markdown",
      "source": [
        "### **Data Import** "
      ],
      "metadata": {
        "id": "wrpmDxv9IN3t"
      }
    },
    {
      "cell_type": "code",
      "source": [
        "from google.colab import files\n",
        "\n",
        "uploaded = files.upload()\n",
        "\n",
        "for fn in uploaded.keys():\n",
        "  print('User uploaded file \"{name}\" with length {length} bytes'.format(\n",
        "      name=fn, length=len(uploaded[fn])))"
      ],
      "metadata": {
        "colab": {
          "resources": {
            "http://localhost:8080/nbextensions/google.colab/files.js": {
              "data": "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",
              "ok": true,
              "headers": [
                [
                  "content-type",
                  "application/javascript"
                ]
              ],
              "status": 200,
              "status_text": ""
            }
          },
          "base_uri": "https://localhost:8080/",
          "height": 91
        },
        "id": "7HP0YC4j83UZ",
        "outputId": "0edba095-d6df-43a9-c3df-291c9fdf5e12"
      },
      "execution_count": 3,
      "outputs": [
        {
          "output_type": "display_data",
          "data": {
            "text/plain": [
              "<IPython.core.display.HTML object>"
            ],
            "text/html": [
              "\n",
              "     <input type=\"file\" id=\"files-757f0751-714a-4d4c-8b13-ee27bb2c27c9\" name=\"files[]\" multiple disabled\n",
              "        style=\"border:none\" />\n",
              "     <output id=\"result-757f0751-714a-4d4c-8b13-ee27bb2c27c9\">\n",
              "      Upload widget is only available when the cell has been executed in the\n",
              "      current browser session. Please rerun this cell to enable.\n",
              "      </output>\n",
              "      <script src=\"/nbextensions/google.colab/files.js\"></script> "
            ]
          },
          "metadata": {}
        },
        {
          "output_type": "stream",
          "name": "stdout",
          "text": [
            "Saving Credit_1.csv to Credit_1.csv\n",
            "User uploaded file \"Credit_1.csv\" with length 107087938 bytes\n"
          ]
        }
      ]
    },
    {
      "cell_type": "markdown",
      "source": [
        "### **Data Analysis** \n",
        "\n",
        "\n"
      ],
      "metadata": {
        "id": "Lrz5j7P0EccY"
      }
    },
    {
      "cell_type": "code",
      "source": [
        "df_train_Data = pd.read_csv('/content/Credit_1.csv')\n",
        "df_test_Data = pd.read_csv('/content/Credit_1.csv')\n",
        "target     = 'Class'"
      ],
      "metadata": {
        "id": "pTiNXiR3FQC_"
      },
      "execution_count": 39,
      "outputs": []
    },
    {
      "cell_type": "code",
      "source": [
        "df_train_Data.info()"
      ],
      "metadata": {
        "colab": {
          "base_uri": "https://localhost:8080/"
        },
        "id": "PTqdJ4bfFqcW",
        "outputId": "c585e6ce-945d-4fd0-ec3f-1164dc05f4f3"
      },
      "execution_count": 40,
      "outputs": [
        {
          "output_type": "stream",
          "name": "stdout",
          "text": [
            "<class 'pandas.core.frame.DataFrame'>\n",
            "RangeIndex: 199364 entries, 0 to 199363\n",
            "Data columns (total 32 columns):\n",
            " #   Column      Non-Null Count   Dtype  \n",
            "---  ------      --------------   -----  \n",
            " 0   Unnamed: 0  199364 non-null  int64  \n",
            " 1   Time        199364 non-null  float64\n",
            " 2   V1          199364 non-null  float64\n",
            " 3   V2          199364 non-null  float64\n",
            " 4   V3          199364 non-null  float64\n",
            " 5   V4          199364 non-null  float64\n",
            " 6   V5          199364 non-null  float64\n",
            " 7   V6          199364 non-null  float64\n",
            " 8   V7          199364 non-null  float64\n",
            " 9   V8          199364 non-null  float64\n",
            " 10  V9          199364 non-null  float64\n",
            " 11  V10         199364 non-null  float64\n",
            " 12  V11         199364 non-null  float64\n",
            " 13  V12         199364 non-null  float64\n",
            " 14  V13         199364 non-null  float64\n",
            " 15  V14         199364 non-null  float64\n",
            " 16  V15         199364 non-null  float64\n",
            " 17  V16         199364 non-null  float64\n",
            " 18  V17         199364 non-null  float64\n",
            " 19  V18         199364 non-null  float64\n",
            " 20  V19         199364 non-null  float64\n",
            " 21  V20         199364 non-null  float64\n",
            " 22  V21         199364 non-null  float64\n",
            " 23  V22         199364 non-null  float64\n",
            " 24  V23         199364 non-null  float64\n",
            " 25  V24         199364 non-null  float64\n",
            " 26  V25         199364 non-null  float64\n",
            " 27  V26         199364 non-null  float64\n",
            " 28  V27         199364 non-null  float64\n",
            " 29  V28         199364 non-null  float64\n",
            " 30  Amount      199364 non-null  float64\n",
            " 31  Class       199364 non-null  int64  \n",
            "dtypes: float64(30), int64(2)\n",
            "memory usage: 48.7 MB\n"
          ]
        }
      ]
    },
    {
      "cell_type": "code",
      "source": [
        "df_train_Data['Class'].value_counts()"
      ],
      "metadata": {
        "colab": {
          "base_uri": "https://localhost:8080/"
        },
        "id": "XptItB3JFuGF",
        "outputId": "bcb0a998-67d4-4d49-c707-4ae4c2585294"
      },
      "execution_count": 41,
      "outputs": [
        {
          "output_type": "execute_result",
          "data": {
            "text/plain": [
              "0    199019\n",
              "1       345\n",
              "Name: Class, dtype: int64"
            ]
          },
          "metadata": {},
          "execution_count": 41
        }
      ]
    },
    {
      "cell_type": "code",
      "source": [
        "df_train_Data.describe().T"
      ],
      "metadata": {
        "colab": {
          "base_uri": "https://localhost:8080/",
          "height": 1000
        },
        "id": "bcvJgDpzFwgG",
        "outputId": "5c60b666-f35f-420d-9be2-73d7a316ad32"
      },
      "execution_count": 9,
      "outputs": [
        {
          "output_type": "execute_result",
          "data": {
            "text/plain": [
              "               count           mean           std        min           25%  \\\n",
              "Unnamed: 0  199364.0  142370.694298  82252.491647   1.000000  71041.250000   \n",
              "Time        199364.0   94799.493936  47499.835491   0.000000  54126.000000   \n",
              "V1          199364.0       0.000315      1.963554 -46.855047     -0.921539   \n",
              "V2          199364.0      -0.002690      1.657379 -63.344698     -0.601213   \n",
              "V3          199364.0      -0.001532      1.516716 -33.680984     -0.892838   \n",
              "V4          199364.0       0.000721      1.417138  -5.560118     -0.848835   \n",
              "V5          199364.0      -0.001494      1.368744 -42.147898     -0.692874   \n",
              "V6          199364.0      -0.000210      1.328673 -23.496714     -0.769177   \n",
              "V7          199364.0      -0.000870      1.226018 -43.557242     -0.554220   \n",
              "V8          199364.0      -0.001980      1.212338 -73.216718     -0.209086   \n",
              "V9          199364.0       0.000212      1.102021 -13.434066     -0.644753   \n",
              "V10         199364.0       0.001357      1.092801 -24.588262     -0.535493   \n",
              "V11         199364.0      -0.001039      1.020027  -4.797473     -0.762852   \n",
              "V12         199364.0      -0.001565      0.996526 -17.769143     -0.407660   \n",
              "V13         199364.0       0.000693      0.997718  -5.791881     -0.648456   \n",
              "V14         199364.0       0.000137      0.956938 -19.214325     -0.425122   \n",
              "V15         199364.0       0.000322      0.916143  -4.498945     -0.583616   \n",
              "V16         199364.0       0.000084      0.876131 -14.129855     -0.467945   \n",
              "V17         199364.0       0.000292      0.852181 -25.162799     -0.484055   \n",
              "V18         199364.0      -0.000134      0.837556  -9.498746     -0.498850   \n",
              "V19         199364.0       0.000490      0.814506  -7.213527     -0.456800   \n",
              "V20         199364.0       0.000430      0.770257 -23.646890     -0.211662   \n",
              "V21         199364.0      -0.000014      0.743450 -34.830382     -0.229272   \n",
              "V22         199364.0      -0.000022      0.727625 -10.933144     -0.544345   \n",
              "V23         199364.0      -0.000258      0.629145 -44.807735     -0.162021   \n",
              "V24         199364.0       0.000362      0.605298  -2.822684     -0.354179   \n",
              "V25         199364.0       0.000395      0.521175 -10.295397     -0.316088   \n",
              "V26         199364.0      -0.000094      0.481842  -2.534330     -0.327327   \n",
              "V27         199364.0      -0.000027      0.401042 -22.565679     -0.070864   \n",
              "V28         199364.0       0.000015      0.324849 -11.710896     -0.052907   \n",
              "Amount      199364.0      88.667581    246.104869   0.000000      5.650000   \n",
              "Class       199364.0       0.001731      0.041563   0.000000      0.000000   \n",
              "\n",
              "                      50%            75%            max  \n",
              "Unnamed: 0  142294.500000  213638.250000  284806.000000  \n",
              "Time         84633.500000  139334.250000  172792.000000  \n",
              "V1               0.019705       1.316707       2.451888  \n",
              "V2               0.063784       0.802437      22.057729  \n",
              "V3               0.177888       1.025529       9.382558  \n",
              "V4              -0.017852       0.745566      16.715537  \n",
              "V5              -0.055832       0.609349      34.099309  \n",
              "V6              -0.274397       0.397928      23.917837  \n",
              "V7               0.039228       0.569638      44.054461  \n",
              "V8               0.021803       0.327023      20.007208  \n",
              "V9              -0.049633       0.597096      15.594995  \n",
              "V10             -0.092069       0.458129      23.745136  \n",
              "V11             -0.034135       0.738143      12.018913  \n",
              "V12              0.137912       0.617393       7.848392  \n",
              "V13             -0.013416       0.664148       4.569009  \n",
              "V14              0.051179       0.493925      10.526766  \n",
              "V15              0.049289       0.649589       5.825654  \n",
              "V16              0.067772       0.523095       7.059132  \n",
              "V17             -0.065113       0.401034       9.207059  \n",
              "V18             -0.003217       0.500436       5.041069  \n",
              "V19              0.004422       0.460367       5.572113  \n",
              "V20             -0.062889       0.132834      39.420904  \n",
              "V21             -0.029045       0.187095      27.202839  \n",
              "V22              0.006744       0.531017      10.503090  \n",
              "V23             -0.010915       0.147503      22.528412  \n",
              "V24              0.040974       0.438953       4.022866  \n",
              "V25              0.018014       0.350802       7.519589  \n",
              "V26             -0.052287       0.241082       3.463246  \n",
              "V27              0.001064       0.090491      12.152401  \n",
              "V28              0.011119       0.077989      22.620072  \n",
              "Amount          22.000000      77.580000   19656.530000  \n",
              "Class            0.000000       0.000000       1.000000  "
            ],
            "text/html": [
              "\n",
              "  <div id=\"df-ff51a00e-3f96-4e17-b3f7-0a00138b66da\">\n",
              "    <div class=\"colab-df-container\">\n",
              "      <div>\n",
              "<style scoped>\n",
              "    .dataframe tbody tr th:only-of-type {\n",
              "        vertical-align: middle;\n",
              "    }\n",
              "\n",
              "    .dataframe tbody tr th {\n",
              "        vertical-align: top;\n",
              "    }\n",
              "\n",
              "    .dataframe thead th {\n",
              "        text-align: right;\n",
              "    }\n",
              "</style>\n",
              "<table border=\"1\" class=\"dataframe\">\n",
              "  <thead>\n",
              "    <tr style=\"text-align: right;\">\n",
              "      <th></th>\n",
              "      <th>count</th>\n",
              "      <th>mean</th>\n",
              "      <th>std</th>\n",
              "      <th>min</th>\n",
              "      <th>25%</th>\n",
              "      <th>50%</th>\n",
              "      <th>75%</th>\n",
              "      <th>max</th>\n",
              "    </tr>\n",
              "  </thead>\n",
              "  <tbody>\n",
              "    <tr>\n",
              "      <th>Unnamed: 0</th>\n",
              "      <td>199364.0</td>\n",
              "      <td>142370.694298</td>\n",
              "      <td>82252.491647</td>\n",
              "      <td>1.000000</td>\n",
              "      <td>71041.250000</td>\n",
              "      <td>142294.500000</td>\n",
              "      <td>213638.250000</td>\n",
              "      <td>284806.000000</td>\n",
              "    </tr>\n",
              "    <tr>\n",
              "      <th>Time</th>\n",
              "      <td>199364.0</td>\n",
              "      <td>94799.493936</td>\n",
              "      <td>47499.835491</td>\n",
              "      <td>0.000000</td>\n",
              "      <td>54126.000000</td>\n",
              "      <td>84633.500000</td>\n",
              "      <td>139334.250000</td>\n",
              "      <td>172792.000000</td>\n",
              "    </tr>\n",
              "    <tr>\n",
              "      <th>V1</th>\n",
              "      <td>199364.0</td>\n",
              "      <td>0.000315</td>\n",
              "      <td>1.963554</td>\n",
              "      <td>-46.855047</td>\n",
              "      <td>-0.921539</td>\n",
              "      <td>0.019705</td>\n",
              "      <td>1.316707</td>\n",
              "      <td>2.451888</td>\n",
              "    </tr>\n",
              "    <tr>\n",
              "      <th>V2</th>\n",
              "      <td>199364.0</td>\n",
              "      <td>-0.002690</td>\n",
              "      <td>1.657379</td>\n",
              "      <td>-63.344698</td>\n",
              "      <td>-0.601213</td>\n",
              "      <td>0.063784</td>\n",
              "      <td>0.802437</td>\n",
              "      <td>22.057729</td>\n",
              "    </tr>\n",
              "    <tr>\n",
              "      <th>V3</th>\n",
              "      <td>199364.0</td>\n",
              "      <td>-0.001532</td>\n",
              "      <td>1.516716</td>\n",
              "      <td>-33.680984</td>\n",
              "      <td>-0.892838</td>\n",
              "      <td>0.177888</td>\n",
              "      <td>1.025529</td>\n",
              "      <td>9.382558</td>\n",
              "    </tr>\n",
              "    <tr>\n",
              "      <th>V4</th>\n",
              "      <td>199364.0</td>\n",
              "      <td>0.000721</td>\n",
              "      <td>1.417138</td>\n",
              "      <td>-5.560118</td>\n",
              "      <td>-0.848835</td>\n",
              "      <td>-0.017852</td>\n",
              "      <td>0.745566</td>\n",
              "      <td>16.715537</td>\n",
              "    </tr>\n",
              "    <tr>\n",
              "      <th>V5</th>\n",
              "      <td>199364.0</td>\n",
              "      <td>-0.001494</td>\n",
              "      <td>1.368744</td>\n",
              "      <td>-42.147898</td>\n",
              "      <td>-0.692874</td>\n",
              "      <td>-0.055832</td>\n",
              "      <td>0.609349</td>\n",
              "      <td>34.099309</td>\n",
              "    </tr>\n",
              "    <tr>\n",
              "      <th>V6</th>\n",
              "      <td>199364.0</td>\n",
              "      <td>-0.000210</td>\n",
              "      <td>1.328673</td>\n",
              "      <td>-23.496714</td>\n",
              "      <td>-0.769177</td>\n",
              "      <td>-0.274397</td>\n",
              "      <td>0.397928</td>\n",
              "      <td>23.917837</td>\n",
              "    </tr>\n",
              "    <tr>\n",
              "      <th>V7</th>\n",
              "      <td>199364.0</td>\n",
              "      <td>-0.000870</td>\n",
              "      <td>1.226018</td>\n",
              "      <td>-43.557242</td>\n",
              "      <td>-0.554220</td>\n",
              "      <td>0.039228</td>\n",
              "      <td>0.569638</td>\n",
              "      <td>44.054461</td>\n",
              "    </tr>\n",
              "    <tr>\n",
              "      <th>V8</th>\n",
              "      <td>199364.0</td>\n",
              "      <td>-0.001980</td>\n",
              "      <td>1.212338</td>\n",
              "      <td>-73.216718</td>\n",
              "      <td>-0.209086</td>\n",
              "      <td>0.021803</td>\n",
              "      <td>0.327023</td>\n",
              "      <td>20.007208</td>\n",
              "    </tr>\n",
              "    <tr>\n",
              "      <th>V9</th>\n",
              "      <td>199364.0</td>\n",
              "      <td>0.000212</td>\n",
              "      <td>1.102021</td>\n",
              "      <td>-13.434066</td>\n",
              "      <td>-0.644753</td>\n",
              "      <td>-0.049633</td>\n",
              "      <td>0.597096</td>\n",
              "      <td>15.594995</td>\n",
              "    </tr>\n",
              "    <tr>\n",
              "      <th>V10</th>\n",
              "      <td>199364.0</td>\n",
              "      <td>0.001357</td>\n",
              "      <td>1.092801</td>\n",
              "      <td>-24.588262</td>\n",
              "      <td>-0.535493</td>\n",
              "      <td>-0.092069</td>\n",
              "      <td>0.458129</td>\n",
              "      <td>23.745136</td>\n",
              "    </tr>\n",
              "    <tr>\n",
              "      <th>V11</th>\n",
              "      <td>199364.0</td>\n",
              "      <td>-0.001039</td>\n",
              "      <td>1.020027</td>\n",
              "      <td>-4.797473</td>\n",
              "      <td>-0.762852</td>\n",
              "      <td>-0.034135</td>\n",
              "      <td>0.738143</td>\n",
              "      <td>12.018913</td>\n",
              "    </tr>\n",
              "    <tr>\n",
              "      <th>V12</th>\n",
              "      <td>199364.0</td>\n",
              "      <td>-0.001565</td>\n",
              "      <td>0.996526</td>\n",
              "      <td>-17.769143</td>\n",
              "      <td>-0.407660</td>\n",
              "      <td>0.137912</td>\n",
              "      <td>0.617393</td>\n",
              "      <td>7.848392</td>\n",
              "    </tr>\n",
              "    <tr>\n",
              "      <th>V13</th>\n",
              "      <td>199364.0</td>\n",
              "      <td>0.000693</td>\n",
              "      <td>0.997718</td>\n",
              "      <td>-5.791881</td>\n",
              "      <td>-0.648456</td>\n",
              "      <td>-0.013416</td>\n",
              "      <td>0.664148</td>\n",
              "      <td>4.569009</td>\n",
              "    </tr>\n",
              "    <tr>\n",
              "      <th>V14</th>\n",
              "      <td>199364.0</td>\n",
              "      <td>0.000137</td>\n",
              "      <td>0.956938</td>\n",
              "      <td>-19.214325</td>\n",
              "      <td>-0.425122</td>\n",
              "      <td>0.051179</td>\n",
              "      <td>0.493925</td>\n",
              "      <td>10.526766</td>\n",
              "    </tr>\n",
              "    <tr>\n",
              "      <th>V15</th>\n",
              "      <td>199364.0</td>\n",
              "      <td>0.000322</td>\n",
              "      <td>0.916143</td>\n",
              "      <td>-4.498945</td>\n",
              "      <td>-0.583616</td>\n",
              "      <td>0.049289</td>\n",
              "      <td>0.649589</td>\n",
              "      <td>5.825654</td>\n",
              "    </tr>\n",
              "    <tr>\n",
              "      <th>V16</th>\n",
              "      <td>199364.0</td>\n",
              "      <td>0.000084</td>\n",
              "      <td>0.876131</td>\n",
              "      <td>-14.129855</td>\n",
              "      <td>-0.467945</td>\n",
              "      <td>0.067772</td>\n",
              "      <td>0.523095</td>\n",
              "      <td>7.059132</td>\n",
              "    </tr>\n",
              "    <tr>\n",
              "      <th>V17</th>\n",
              "      <td>199364.0</td>\n",
              "      <td>0.000292</td>\n",
              "      <td>0.852181</td>\n",
              "      <td>-25.162799</td>\n",
              "      <td>-0.484055</td>\n",
              "      <td>-0.065113</td>\n",
              "      <td>0.401034</td>\n",
              "      <td>9.207059</td>\n",
              "    </tr>\n",
              "    <tr>\n",
              "      <th>V18</th>\n",
              "      <td>199364.0</td>\n",
              "      <td>-0.000134</td>\n",
              "      <td>0.837556</td>\n",
              "      <td>-9.498746</td>\n",
              "      <td>-0.498850</td>\n",
              "      <td>-0.003217</td>\n",
              "      <td>0.500436</td>\n",
              "      <td>5.041069</td>\n",
              "    </tr>\n",
              "    <tr>\n",
              "      <th>V19</th>\n",
              "      <td>199364.0</td>\n",
              "      <td>0.000490</td>\n",
              "      <td>0.814506</td>\n",
              "      <td>-7.213527</td>\n",
              "      <td>-0.456800</td>\n",
              "      <td>0.004422</td>\n",
              "      <td>0.460367</td>\n",
              "      <td>5.572113</td>\n",
              "    </tr>\n",
              "    <tr>\n",
              "      <th>V20</th>\n",
              "      <td>199364.0</td>\n",
              "      <td>0.000430</td>\n",
              "      <td>0.770257</td>\n",
              "      <td>-23.646890</td>\n",
              "      <td>-0.211662</td>\n",
              "      <td>-0.062889</td>\n",
              "      <td>0.132834</td>\n",
              "      <td>39.420904</td>\n",
              "    </tr>\n",
              "    <tr>\n",
              "      <th>V21</th>\n",
              "      <td>199364.0</td>\n",
              "      <td>-0.000014</td>\n",
              "      <td>0.743450</td>\n",
              "      <td>-34.830382</td>\n",
              "      <td>-0.229272</td>\n",
              "      <td>-0.029045</td>\n",
              "      <td>0.187095</td>\n",
              "      <td>27.202839</td>\n",
              "    </tr>\n",
              "    <tr>\n",
              "      <th>V22</th>\n",
              "      <td>199364.0</td>\n",
              "      <td>-0.000022</td>\n",
              "      <td>0.727625</td>\n",
              "      <td>-10.933144</td>\n",
              "      <td>-0.544345</td>\n",
              "      <td>0.006744</td>\n",
              "      <td>0.531017</td>\n",
              "      <td>10.503090</td>\n",
              "    </tr>\n",
              "    <tr>\n",
              "      <th>V23</th>\n",
              "      <td>199364.0</td>\n",
              "      <td>-0.000258</td>\n",
              "      <td>0.629145</td>\n",
              "      <td>-44.807735</td>\n",
              "      <td>-0.162021</td>\n",
              "      <td>-0.010915</td>\n",
              "      <td>0.147503</td>\n",
              "      <td>22.528412</td>\n",
              "    </tr>\n",
              "    <tr>\n",
              "      <th>V24</th>\n",
              "      <td>199364.0</td>\n",
              "      <td>0.000362</td>\n",
              "      <td>0.605298</td>\n",
              "      <td>-2.822684</td>\n",
              "      <td>-0.354179</td>\n",
              "      <td>0.040974</td>\n",
              "      <td>0.438953</td>\n",
              "      <td>4.022866</td>\n",
              "    </tr>\n",
              "    <tr>\n",
              "      <th>V25</th>\n",
              "      <td>199364.0</td>\n",
              "      <td>0.000395</td>\n",
              "      <td>0.521175</td>\n",
              "      <td>-10.295397</td>\n",
              "      <td>-0.316088</td>\n",
              "      <td>0.018014</td>\n",
              "      <td>0.350802</td>\n",
              "      <td>7.519589</td>\n",
              "    </tr>\n",
              "    <tr>\n",
              "      <th>V26</th>\n",
              "      <td>199364.0</td>\n",
              "      <td>-0.000094</td>\n",
              "      <td>0.481842</td>\n",
              "      <td>-2.534330</td>\n",
              "      <td>-0.327327</td>\n",
              "      <td>-0.052287</td>\n",
              "      <td>0.241082</td>\n",
              "      <td>3.463246</td>\n",
              "    </tr>\n",
              "    <tr>\n",
              "      <th>V27</th>\n",
              "      <td>199364.0</td>\n",
              "      <td>-0.000027</td>\n",
              "      <td>0.401042</td>\n",
              "      <td>-22.565679</td>\n",
              "      <td>-0.070864</td>\n",
              "      <td>0.001064</td>\n",
              "      <td>0.090491</td>\n",
              "      <td>12.152401</td>\n",
              "    </tr>\n",
              "    <tr>\n",
              "      <th>V28</th>\n",
              "      <td>199364.0</td>\n",
              "      <td>0.000015</td>\n",
              "      <td>0.324849</td>\n",
              "      <td>-11.710896</td>\n",
              "      <td>-0.052907</td>\n",
              "      <td>0.011119</td>\n",
              "      <td>0.077989</td>\n",
              "      <td>22.620072</td>\n",
              "    </tr>\n",
              "    <tr>\n",
              "      <th>Amount</th>\n",
              "      <td>199364.0</td>\n",
              "      <td>88.667581</td>\n",
              "      <td>246.104869</td>\n",
              "      <td>0.000000</td>\n",
              "      <td>5.650000</td>\n",
              "      <td>22.000000</td>\n",
              "      <td>77.580000</td>\n",
              "      <td>19656.530000</td>\n",
              "    </tr>\n",
              "    <tr>\n",
              "      <th>Class</th>\n",
              "      <td>199364.0</td>\n",
              "      <td>0.001731</td>\n",
              "      <td>0.041563</td>\n",
              "      <td>0.000000</td>\n",
              "      <td>0.000000</td>\n",
              "      <td>0.000000</td>\n",
              "      <td>0.000000</td>\n",
              "      <td>1.000000</td>\n",
              "    </tr>\n",
              "  </tbody>\n",
              "</table>\n",
              "</div>\n",
              "      <button class=\"colab-df-convert\" onclick=\"convertToInteractive('df-ff51a00e-3f96-4e17-b3f7-0a00138b66da')\"\n",
              "              title=\"Convert this dataframe to an interactive table.\"\n",
              "              style=\"display:none;\">\n",
              "        \n",
              "  <svg xmlns=\"http://www.w3.org/2000/svg\" height=\"24px\"viewBox=\"0 0 24 24\"\n",
              "       width=\"24px\">\n",
              "    <path d=\"M0 0h24v24H0V0z\" fill=\"none\"/>\n",
              "    <path d=\"M18.56 5.44l.94 2.06.94-2.06 2.06-.94-2.06-.94-.94-2.06-.94 2.06-2.06.94zm-11 1L8.5 8.5l.94-2.06 2.06-.94-2.06-.94L8.5 2.5l-.94 2.06-2.06.94zm10 10l.94 2.06.94-2.06 2.06-.94-2.06-.94-.94-2.06-.94 2.06-2.06.94z\"/><path d=\"M17.41 7.96l-1.37-1.37c-.4-.4-.92-.59-1.43-.59-.52 0-1.04.2-1.43.59L10.3 9.45l-7.72 7.72c-.78.78-.78 2.05 0 2.83L4 21.41c.39.39.9.59 1.41.59.51 0 1.02-.2 1.41-.59l7.78-7.78 2.81-2.81c.8-.78.8-2.07 0-2.86zM5.41 20L4 18.59l7.72-7.72 1.47 1.35L5.41 20z\"/>\n",
              "  </svg>\n",
              "      </button>\n",
              "      \n",
              "  <style>\n",
              "    .colab-df-container {\n",
              "      display:flex;\n",
              "      flex-wrap:wrap;\n",
              "      gap: 12px;\n",
              "    }\n",
              "\n",
              "    .colab-df-convert {\n",
              "      background-color: #E8F0FE;\n",
              "      border: none;\n",
              "      border-radius: 50%;\n",
              "      cursor: pointer;\n",
              "      display: none;\n",
              "      fill: #1967D2;\n",
              "      height: 32px;\n",
              "      padding: 0 0 0 0;\n",
              "      width: 32px;\n",
              "    }\n",
              "\n",
              "    .colab-df-convert:hover {\n",
              "      background-color: #E2EBFA;\n",
              "      box-shadow: 0px 1px 2px rgba(60, 64, 67, 0.3), 0px 1px 3px 1px rgba(60, 64, 67, 0.15);\n",
              "      fill: #174EA6;\n",
              "    }\n",
              "\n",
              "    [theme=dark] .colab-df-convert {\n",
              "      background-color: #3B4455;\n",
              "      fill: #D2E3FC;\n",
              "    }\n",
              "\n",
              "    [theme=dark] .colab-df-convert:hover {\n",
              "      background-color: #434B5C;\n",
              "      box-shadow: 0px 1px 3px 1px rgba(0, 0, 0, 0.15);\n",
              "      filter: drop-shadow(0px 1px 2px rgba(0, 0, 0, 0.3));\n",
              "      fill: #FFFFFF;\n",
              "    }\n",
              "  </style>\n",
              "\n",
              "      <script>\n",
              "        const buttonEl =\n",
              "          document.querySelector('#df-ff51a00e-3f96-4e17-b3f7-0a00138b66da button.colab-df-convert');\n",
              "        buttonEl.style.display =\n",
              "          google.colab.kernel.accessAllowed ? 'block' : 'none';\n",
              "\n",
              "        async function convertToInteractive(key) {\n",
              "          const element = document.querySelector('#df-ff51a00e-3f96-4e17-b3f7-0a00138b66da');\n",
              "          const dataTable =\n",
              "            await google.colab.kernel.invokeFunction('convertToInteractive',\n",
              "                                                     [key], {});\n",
              "          if (!dataTable) return;\n",
              "\n",
              "          const docLinkHtml = 'Like what you see? Visit the ' +\n",
              "            '<a target=\"_blank\" href=https://colab.research.google.com/notebooks/data_table.ipynb>data table notebook</a>'\n",
              "            + ' to learn more about interactive tables.';\n",
              "          element.innerHTML = '';\n",
              "          dataTable['output_type'] = 'display_data';\n",
              "          await google.colab.output.renderOutput(dataTable, element);\n",
              "          const docLink = document.createElement('div');\n",
              "          docLink.innerHTML = docLinkHtml;\n",
              "          element.appendChild(docLink);\n",
              "        }\n",
              "      </script>\n",
              "    </div>\n",
              "  </div>\n",
              "  "
            ]
          },
          "metadata": {},
          "execution_count": 9
        }
      ]
    },
    {
      "cell_type": "code",
      "source": [
        "df_train_Data.isna().sum().sort_values(ascending=False)"
      ],
      "metadata": {
        "colab": {
          "base_uri": "https://localhost:8080/"
        },
        "id": "D10KMan_FyIZ",
        "outputId": "5e68632e-cfb4-498f-821f-0cb6d7fbfea5"
      },
      "execution_count": 10,
      "outputs": [
        {
          "output_type": "execute_result",
          "data": {
            "text/plain": [
              "Unnamed: 0    0\n",
              "Time          0\n",
              "Amount        0\n",
              "V28           0\n",
              "V27           0\n",
              "V26           0\n",
              "V25           0\n",
              "V24           0\n",
              "V23           0\n",
              "V22           0\n",
              "V21           0\n",
              "V20           0\n",
              "V19           0\n",
              "V18           0\n",
              "V17           0\n",
              "V16           0\n",
              "V15           0\n",
              "V14           0\n",
              "V13           0\n",
              "V12           0\n",
              "V11           0\n",
              "V10           0\n",
              "V9            0\n",
              "V8            0\n",
              "V7            0\n",
              "V6            0\n",
              "V5            0\n",
              "V4            0\n",
              "V3            0\n",
              "V2            0\n",
              "V1            0\n",
              "Class         0\n",
              "dtype: int64"
            ]
          },
          "metadata": {},
          "execution_count": 10
        }
      ]
    },
    {
      "cell_type": "code",
      "source": [
        "df_train_Data.duplicated().sum()"
      ],
      "metadata": {
        "colab": {
          "base_uri": "https://localhost:8080/"
        },
        "id": "qdzbgLq3F0m4",
        "outputId": "95faa677-0898-4b84-b172-a8d2973f3b49"
      },
      "execution_count": 11,
      "outputs": [
        {
          "output_type": "execute_result",
          "data": {
            "text/plain": [
              "0"
            ]
          },
          "metadata": {},
          "execution_count": 11
        }
      ]
    },
    {
      "cell_type": "code",
      "source": [
        "df_train_Data.drop_duplicates(inplace=True)"
      ],
      "metadata": {
        "id": "j4UqpsivF2OR"
      },
      "execution_count": 12,
      "outputs": []
    },
    {
      "cell_type": "markdown",
      "source": [
        "### **Visiualization**"
      ],
      "metadata": {
        "id": "_qKofojRGDfu"
      }
    },
    {
      "cell_type": "code",
      "source": [
        "sns.distplot(df_train_Data['Amount'])\n",
        "plt.show()"
      ],
      "metadata": {
        "colab": {
          "base_uri": "https://localhost:8080/",
          "height": 279
        },
        "id": "e1EQjWikGFzf",
        "outputId": "2553320d-1510-44bc-d1eb-eaf227830f38"
      },
      "execution_count": 13,
      "outputs": [
        {
          "output_type": "display_data",
          "data": {
            "text/plain": [
              "<Figure size 432x288 with 1 Axes>"
            ],
            "image/png": "[encoded data removed]"
          },
          "metadata": {
            "needs_background": "light"
          }
        }
      ]
    },
    {
      "cell_type": "code",
      "source": [
        "sns.boxplot(df_train_Data['Amount'])\n",
        "plt.show()"
      ],
      "metadata": {
        "colab": {
          "base_uri": "https://localhost:8080/",
          "height": 279
        },
        "id": "23b8tcPvGZ8g",
        "outputId": "95ced423-e36c-4f5b-8833-877d3bd15fca"
      },
      "execution_count": 14,
      "outputs": [
        {
          "output_type": "display_data",
          "data": {
            "text/plain": [
              "<Figure size 432x288 with 1 Axes>"
            ],
            "image/png": "[encoded data removed]"
          },
          "metadata": {
            "needs_background": "light"
          }
        }
      ]
    },
    {
      "cell_type": "markdown",
      "source": [
        "### **Data Split**"
      ],
      "metadata": {
        "id": "7l56rxpHGc09"
      }
    },
    {
      "cell_type": "code",
      "source": [
        "x = df_train_Data.drop('Class',axis=1).copy()\n",
        "y = df_train_Data['Class'].copy()\n",
        "\n",
        "x , y = make_imbalance(x,y, sampling_strategy={0: 333, 1: 333},random_state=14)\n",
        "\n",
        "x_train ,x_test ,y_train ,y_test = train_test_split(x,y,test_size=.3,random_state=42)"
      ],
      "metadata": {
        "id": "i4tmUwNiG5v4"
      },
      "execution_count": 42,
      "outputs": []
    },
    {
      "cell_type": "code",
      "source": [
        "from sklearn.ensemble import RandomForestRegressor\n",
        "regressor = RandomForestRegressor()\n",
        "\n",
        "from sklearn.feature_selection import RFE\n",
        "n_features_to_select = 1\n",
        "rfe = RFE(regressor, n_features_to_select=n_features_to_select)\n",
        "rfe.fit(x_train, y_train)\n",
        "\n",
        "\n",
        "from operator import itemgetter\n",
        "features = x_train.columns.to_list()\n",
        "    \n",
        "\n",
        "rfe = RFE(regressor, step= 1, n_features_to_select=15)\n",
        "rfe.fit(x_train, y_train)\n",
        "\n",
        "rfe.transform(x_train)\n",
        "\n",
        "predictions = rfe.predict(x_test)\n"
      ],
      "metadata": {
        "id": "n5xfBaayHI1r"
      },
      "execution_count": 43,
      "outputs": []
    },
    {
      "cell_type": "code",
      "source": [
        "c = np.where(rfe.support_ == False)\n",
        "\n",
        "new_data = df_train_Data.drop(df_train_Data.columns[c], axis=1)\n",
        "\n",
        "new_data = pd.DataFrame(new_data, columns= new_data.keys())"
      ],
      "metadata": {
        "id": "PeehyighHOhR"
      },
      "execution_count": 44,
      "outputs": []
    },
    {
      "cell_type": "code",
      "source": [
        "new_data.head(10)"
      ],
      "metadata": {
        "colab": {
          "base_uri": "https://localhost:8080/",
          "height": 363
        },
        "id": "RFRoVjZ5HP9_",
        "outputId": "3e149133-640c-4a66-9bed-cdc1171e3303"
      },
      "execution_count": 45,
      "outputs": [
        {
          "output_type": "execute_result",
          "data": {
            "text/plain": [
              "         V3        V4        V8       V10       V11       V12       V13  \\\n",
              "0 -0.650588 -0.996032  0.633016 -0.362707  0.527911  0.505396 -0.742107   \n",
              "1 -1.514760  0.115021 -0.264353  0.028747 -1.208334  0.838156  1.511476   \n",
              "2  1.573127  0.687266 -1.098608  1.404677  1.346697  0.140822  0.159637   \n",
              "3  0.555143 -0.629355 -0.032659  0.619206  0.103615 -1.067971 -1.227629   \n",
              "4  0.615391 -0.561114 -0.097430 -1.033567 -0.706095 -0.612354 -0.336939   \n",
              "5  1.105997 -0.197960 -0.398320  1.322536 -0.269015 -1.289154 -1.930435   \n",
              "6  0.448919  1.442484  0.205401 -0.149548  1.086603  0.665781 -0.874429   \n",
              "7 -1.650107 -0.365683 -0.007762  0.909532 -2.403510 -1.636109 -2.466221   \n",
              "8 -2.838006 -0.425763 -0.684210  0.925868 -1.176245  0.027884  0.836131   \n",
              "9  1.028302  0.090509  0.494693 -0.384694  1.265184  1.152918 -0.681899   \n",
              "\n",
              "        V14       V15       V17       V19       V20       V21       V22  \\\n",
              "0  0.492430 -0.163585  0.262987 -0.939037 -0.062612 -0.062489  0.005292   \n",
              "1 -0.042076 -0.002894 -0.658905  0.431762 -0.086076 -0.329368 -0.788150   \n",
              "2 -1.147153  0.664997 -1.267675  0.405276  0.052960  0.015324  1.063663   \n",
              "3  0.197196  1.151364  0.710309  0.130406 -0.066712 -0.014814 -0.180379   \n",
              "4 -1.384147  0.314279  0.512582 -0.163736 -0.073333 -0.221533 -0.393158   \n",
              "5 -0.772690  1.250825 -0.131895 -0.173225  0.557285 -0.517503 -0.874559   \n",
              "6  0.368767  0.154538 -0.232156 -0.543789  0.603998  0.431729  0.466787   \n",
              "7  0.407082 -0.370246  0.155404 -0.409513 -0.761811 -0.310062 -0.284436   \n",
              "8  0.558308 -0.377175  0.023052 -0.605273 -0.167993 -0.006271  0.194557   \n",
              "9 -0.179710 -0.429674  0.489638  0.015142 -0.040196 -0.095094 -0.145423   \n",
              "\n",
              "        V23  Class  \n",
              "0  0.251519      0  \n",
              "1  0.267730      0  \n",
              "2 -0.410841      0  \n",
              "3  0.178112      0  \n",
              "4 -0.214990      0  \n",
              "5  0.062009      0  \n",
              "6 -0.461026      0  \n",
              "7  0.066401      0  \n",
              "8 -0.269786      0  \n",
              "9  0.080706      0  "
            ],
            "text/html": [
              "\n",
              "  <div id=\"df-5f61de85-b3af-4969-9c7f-f3435239da57\">\n",
              "    <div class=\"colab-df-container\">\n",
              "      <div>\n",
              "<style scoped>\n",
              "    .dataframe tbody tr th:only-of-type {\n",
              "        vertical-align: middle;\n",
              "    }\n",
              "\n",
              "    .dataframe tbody tr th {\n",
              "        vertical-align: top;\n",
              "    }\n",
              "\n",
              "    .dataframe thead th {\n",
              "        text-align: right;\n",
              "    }\n",
              "</style>\n",
              "<table border=\"1\" class=\"dataframe\">\n",
              "  <thead>\n",
              "    <tr style=\"text-align: right;\">\n",
              "      <th></th>\n",
              "      <th>V3</th>\n",
              "      <th>V4</th>\n",
              "      <th>V8</th>\n",
              "      <th>V10</th>\n",
              "      <th>V11</th>\n",
              "      <th>V12</th>\n",
              "      <th>V13</th>\n",
              "      <th>V14</th>\n",
              "      <th>V15</th>\n",
              "      <th>V17</th>\n",
              "      <th>V19</th>\n",
              "      <th>V20</th>\n",
              "      <th>V21</th>\n",
              "      <th>V22</th>\n",
              "      <th>V23</th>\n",
              "      <th>Class</th>\n",
              "    </tr>\n",
              "  </thead>\n",
              "  <tbody>\n",
              "    <tr>\n",
              "      <th>0</th>\n",
              "      <td>-0.650588</td>\n",
              "      <td>-0.996032</td>\n",
              "      <td>0.633016</td>\n",
              "      <td>-0.362707</td>\n",
              "      <td>0.527911</td>\n",
              "      <td>0.505396</td>\n",
              "      <td>-0.742107</td>\n",
              "      <td>0.492430</td>\n",
              "      <td>-0.163585</td>\n",
              "      <td>0.262987</td>\n",
              "      <td>-0.939037</td>\n",
              "      <td>-0.062612</td>\n",
              "      <td>-0.062489</td>\n",
              "      <td>0.005292</td>\n",
              "      <td>0.251519</td>\n",
              "      <td>0</td>\n",
              "    </tr>\n",
              "    <tr>\n",
              "      <th>1</th>\n",
              "      <td>-1.514760</td>\n",
              "      <td>0.115021</td>\n",
              "      <td>-0.264353</td>\n",
              "      <td>0.028747</td>\n",
              "      <td>-1.208334</td>\n",
              "      <td>0.838156</td>\n",
              "      <td>1.511476</td>\n",
              "      <td>-0.042076</td>\n",
              "      <td>-0.002894</td>\n",
              "      <td>-0.658905</td>\n",
              "      <td>0.431762</td>\n",
              "      <td>-0.086076</td>\n",
              "      <td>-0.329368</td>\n",
              "      <td>-0.788150</td>\n",
              "      <td>0.267730</td>\n",
              "      <td>0</td>\n",
              "    </tr>\n",
              "    <tr>\n",
              "      <th>2</th>\n",
              "      <td>1.573127</td>\n",
              "      <td>0.687266</td>\n",
              "      <td>-1.098608</td>\n",
              "      <td>1.404677</td>\n",
              "      <td>1.346697</td>\n",
              "      <td>0.140822</td>\n",
              "      <td>0.159637</td>\n",
              "      <td>-1.147153</td>\n",
              "      <td>0.664997</td>\n",
              "      <td>-1.267675</td>\n",
              "      <td>0.405276</td>\n",
              "      <td>0.052960</td>\n",
              "      <td>0.015324</td>\n",
              "      <td>1.063663</td>\n",
              "      <td>-0.410841</td>\n",
              "      <td>0</td>\n",
              "    </tr>\n",
              "    <tr>\n",
              "      <th>3</th>\n",
              "      <td>0.555143</td>\n",
              "      <td>-0.629355</td>\n",
              "      <td>-0.032659</td>\n",
              "      <td>0.619206</td>\n",
              "      <td>0.103615</td>\n",
              "      <td>-1.067971</td>\n",
              "      <td>-1.227629</td>\n",
              "      <td>0.197196</td>\n",
              "      <td>1.151364</td>\n",
              "      <td>0.710309</td>\n",
              "      <td>0.130406</td>\n",
              "      <td>-0.066712</td>\n",
              "      <td>-0.014814</td>\n",
              "      <td>-0.180379</td>\n",
              "      <td>0.178112</td>\n",
              "      <td>0</td>\n",
              "    </tr>\n",
              "    <tr>\n",
              "      <th>4</th>\n",
              "      <td>0.615391</td>\n",
              "      <td>-0.561114</td>\n",
              "      <td>-0.097430</td>\n",
              "      <td>-1.033567</td>\n",
              "      <td>-0.706095</td>\n",
              "      <td>-0.612354</td>\n",
              "      <td>-0.336939</td>\n",
              "      <td>-1.384147</td>\n",
              "      <td>0.314279</td>\n",
              "      <td>0.512582</td>\n",
              "      <td>-0.163736</td>\n",
              "      <td>-0.073333</td>\n",
              "      <td>-0.221533</td>\n",
              "      <td>-0.393158</td>\n",
              "      <td>-0.214990</td>\n",
              "      <td>0</td>\n",
              "    </tr>\n",
              "    <tr>\n",
              "      <th>5</th>\n",
              "      <td>1.105997</td>\n",
              "      <td>-0.197960</td>\n",
              "      <td>-0.398320</td>\n",
              "      <td>1.322536</td>\n",
              "      <td>-0.269015</td>\n",
              "      <td>-1.289154</td>\n",
              "      <td>-1.930435</td>\n",
              "      <td>-0.772690</td>\n",
              "      <td>1.250825</td>\n",
              "      <td>-0.131895</td>\n",
              "      <td>-0.173225</td>\n",
              "      <td>0.557285</td>\n",
              "      <td>-0.517503</td>\n",
              "      <td>-0.874559</td>\n",
              "      <td>0.062009</td>\n",
              "      <td>0</td>\n",
              "    </tr>\n",
              "    <tr>\n",
              "      <th>6</th>\n",
              "      <td>0.448919</td>\n",
              "      <td>1.442484</td>\n",
              "      <td>0.205401</td>\n",
              "      <td>-0.149548</td>\n",
              "      <td>1.086603</td>\n",
              "      <td>0.665781</td>\n",
              "      <td>-0.874429</td>\n",
              "      <td>0.368767</td>\n",
              "      <td>0.154538</td>\n",
              "      <td>-0.232156</td>\n",
              "      <td>-0.543789</td>\n",
              "      <td>0.603998</td>\n",
              "      <td>0.431729</td>\n",
              "      <td>0.466787</td>\n",
              "      <td>-0.461026</td>\n",
              "      <td>0</td>\n",
              "    </tr>\n",
              "    <tr>\n",
              "      <th>7</th>\n",
              "      <td>-1.650107</td>\n",
              "      <td>-0.365683</td>\n",
              "      <td>-0.007762</td>\n",
              "      <td>0.909532</td>\n",
              "      <td>-2.403510</td>\n",
              "      <td>-1.636109</td>\n",
              "      <td>-2.466221</td>\n",
              "      <td>0.407082</td>\n",
              "      <td>-0.370246</td>\n",
              "      <td>0.155404</td>\n",
              "      <td>-0.409513</td>\n",
              "      <td>-0.761811</td>\n",
              "      <td>-0.310062</td>\n",
              "      <td>-0.284436</td>\n",
              "      <td>0.066401</td>\n",
              "      <td>0</td>\n",
              "    </tr>\n",
              "    <tr>\n",
              "      <th>8</th>\n",
              "      <td>-2.838006</td>\n",
              "      <td>-0.425763</td>\n",
              "      <td>-0.684210</td>\n",
              "      <td>0.925868</td>\n",
              "      <td>-1.176245</td>\n",
              "      <td>0.027884</td>\n",
              "      <td>0.836131</td>\n",
              "      <td>0.558308</td>\n",
              "      <td>-0.377175</td>\n",
              "      <td>0.023052</td>\n",
              "      <td>-0.605273</td>\n",
              "      <td>-0.167993</td>\n",
              "      <td>-0.006271</td>\n",
              "      <td>0.194557</td>\n",
              "      <td>-0.269786</td>\n",
              "      <td>0</td>\n",
              "    </tr>\n",
              "    <tr>\n",
              "      <th>9</th>\n",
              "      <td>1.028302</td>\n",
              "      <td>0.090509</td>\n",
              "      <td>0.494693</td>\n",
              "      <td>-0.384694</td>\n",
              "      <td>1.265184</td>\n",
              "      <td>1.152918</td>\n",
              "      <td>-0.681899</td>\n",
              "      <td>-0.179710</td>\n",
              "      <td>-0.429674</td>\n",
              "      <td>0.489638</td>\n",
              "      <td>0.015142</td>\n",
              "      <td>-0.040196</td>\n",
              "      <td>-0.095094</td>\n",
              "      <td>-0.145423</td>\n",
              "      <td>0.080706</td>\n",
              "      <td>0</td>\n",
              "    </tr>\n",
              "  </tbody>\n",
              "</table>\n",
              "</div>\n",
              "      <button class=\"colab-df-convert\" onclick=\"convertToInteractive('df-5f61de85-b3af-4969-9c7f-f3435239da57')\"\n",
              "              title=\"Convert this dataframe to an interactive table.\"\n",
              "              style=\"display:none;\">\n",
              "        \n",
              "  <svg xmlns=\"http://www.w3.org/2000/svg\" height=\"24px\"viewBox=\"0 0 24 24\"\n",
              "       width=\"24px\">\n",
              "    <path d=\"M0 0h24v24H0V0z\" fill=\"none\"/>\n",
              "    <path d=\"M18.56 5.44l.94 2.06.94-2.06 2.06-.94-2.06-.94-.94-2.06-.94 2.06-2.06.94zm-11 1L8.5 8.5l.94-2.06 2.06-.94-2.06-.94L8.5 2.5l-.94 2.06-2.06.94zm10 10l.94 2.06.94-2.06 2.06-.94-2.06-.94-.94-2.06-.94 2.06-2.06.94z\"/><path d=\"M17.41 7.96l-1.37-1.37c-.4-.4-.92-.59-1.43-.59-.52 0-1.04.2-1.43.59L10.3 9.45l-7.72 7.72c-.78.78-.78 2.05 0 2.83L4 21.41c.39.39.9.59 1.41.59.51 0 1.02-.2 1.41-.59l7.78-7.78 2.81-2.81c.8-.78.8-2.07 0-2.86zM5.41 20L4 18.59l7.72-7.72 1.47 1.35L5.41 20z\"/>\n",
              "  </svg>\n",
              "      </button>\n",
              "      \n",
              "  <style>\n",
              "    .colab-df-container {\n",
              "      display:flex;\n",
              "      flex-wrap:wrap;\n",
              "      gap: 12px;\n",
              "    }\n",
              "\n",
              "    .colab-df-convert {\n",
              "      background-color: #E8F0FE;\n",
              "      border: none;\n",
              "      border-radius: 50%;\n",
              "      cursor: pointer;\n",
              "      display: none;\n",
              "      fill: #1967D2;\n",
              "      height: 32px;\n",
              "      padding: 0 0 0 0;\n",
              "      width: 32px;\n",
              "    }\n",
              "\n",
              "    .colab-df-convert:hover {\n",
              "      background-color: #E2EBFA;\n",
              "      box-shadow: 0px 1px 2px rgba(60, 64, 67, 0.3), 0px 1px 3px 1px rgba(60, 64, 67, 0.15);\n",
              "      fill: #174EA6;\n",
              "    }\n",
              "\n",
              "    [theme=dark] .colab-df-convert {\n",
              "      background-color: #3B4455;\n",
              "      fill: #D2E3FC;\n",
              "    }\n",
              "\n",
              "    [theme=dark] .colab-df-convert:hover {\n",
              "      background-color: #434B5C;\n",
              "      box-shadow: 0px 1px 3px 1px rgba(0, 0, 0, 0.15);\n",
              "      filter: drop-shadow(0px 1px 2px rgba(0, 0, 0, 0.3));\n",
              "      fill: #FFFFFF;\n",
              "    }\n",
              "  </style>\n",
              "\n",
              "      <script>\n",
              "        const buttonEl =\n",
              "          document.querySelector('#df-5f61de85-b3af-4969-9c7f-f3435239da57 button.colab-df-convert');\n",
              "        buttonEl.style.display =\n",
              "          google.colab.kernel.accessAllowed ? 'block' : 'none';\n",
              "\n",
              "        async function convertToInteractive(key) {\n",
              "          const element = document.querySelector('#df-5f61de85-b3af-4969-9c7f-f3435239da57');\n",
              "          const dataTable =\n",
              "            await google.colab.kernel.invokeFunction('convertToInteractive',\n",
              "                                                     [key], {});\n",
              "          if (!dataTable) return;\n",
              "\n",
              "          const docLinkHtml = 'Like what you see? Visit the ' +\n",
              "            '<a target=\"_blank\" href=https://colab.research.google.com/notebooks/data_table.ipynb>data table notebook</a>'\n",
              "            + ' to learn more about interactive tables.';\n",
              "          element.innerHTML = '';\n",
              "          dataTable['output_type'] = 'display_data';\n",
              "          await google.colab.output.renderOutput(dataTable, element);\n",
              "          const docLink = document.createElement('div');\n",
              "          docLink.innerHTML = docLinkHtml;\n",
              "          element.appendChild(docLink);\n",
              "        }\n",
              "      </script>\n",
              "    </div>\n",
              "  </div>\n",
              "  "
            ]
          },
          "metadata": {},
          "execution_count": 45
        }
      ]
    },
    {
      "cell_type": "markdown",
      "source": [
        "### **Univarient**"
      ],
      "metadata": {
        "id": "E3ozmHpdHSzG"
      }
    },
    {
      "cell_type": "code",
      "source": [
        "x1 = new_data.drop('Class',axis=1).copy()\n",
        "y1 = new_data['Class'].copy()\n",
        "\n",
        "x1 , y1 = make_imbalance(x1,y1, sampling_strategy={0: 333, 1: 333},random_state=14)\n",
        "\n",
        "x1_train ,x1_test ,y1_train ,y1_test = train_test_split(x1,y1,test_size=.3,random_state=42)"
      ],
      "metadata": {
        "id": "PRPA6QSHHVNm"
      },
      "execution_count": 46,
      "outputs": []
    },
    {
      "cell_type": "code",
      "source": [
        "from sklearn.feature_selection import SelectKBest,f_classif\n",
        "bestfeatures = SelectKBest(score_func=f_classif, k=14)\n",
        "select = bestfeatures.fit(x1_train,y1_train)\n",
        "X_train_selected = select.transform(x1_train)\n",
        "\n",
        "print(\"X_train.shape: {}\".format(x1_train.shape))\n",
        "print(\"X_train_selected.shape: {}\".format(X_train_selected.shape))"
      ],
      "metadata": {
        "colab": {
          "base_uri": "https://localhost:8080/"
        },
        "id": "CBIPiuVIHcoa",
        "outputId": "00ef86b1-b046-40ec-e8f9-169ff8e96ad2"
      },
      "execution_count": 47,
      "outputs": [
        {
          "output_type": "stream",
          "name": "stdout",
          "text": [
            "X_train.shape: (466, 15)\n",
            "X_train_selected.shape: (466, 14)\n"
          ]
        }
      ]
    },
    {
      "cell_type": "code",
      "source": [
        "mask = select.get_support()\n",
        "mask"
      ],
      "metadata": {
        "colab": {
          "base_uri": "https://localhost:8080/"
        },
        "id": "NNpPFPDRHepw",
        "outputId": "86837a29-4ba7-4049-80f4-5aabadd93f78"
      },
      "execution_count": 48,
      "outputs": [
        {
          "output_type": "execute_result",
          "data": {
            "text/plain": [
              "array([ True,  True,  True,  True,  True,  True,  True,  True,  True,\n",
              "        True,  True,  True,  True, False,  True])"
            ]
          },
          "metadata": {},
          "execution_count": 48
        }
      ]
    },
    {
      "cell_type": "code",
      "source": [
        "from sklearn.tree import DecisionTreeClassifier\n",
        "X_test_selected = select.transform(x1_test)\n",
        "\n",
        "model = DecisionTreeClassifier(criterion= \"entropy\",random_state=42)\n",
        "model.fit (x1_train,y1_train)\n",
        "print(\"Score with all features: {:.3f}\".format(model.score(x1_test,y1_test)))\n",
        "\n",
        "model.fit (X_train_selected,y_train)\n",
        "print(\"Score with selected features: {:.3f}\".format(model.score(X_test_selected,y1_test)))"
      ],
      "metadata": {
        "colab": {
          "base_uri": "https://localhost:8080/"
        },
        "id": "oc9tmRffHh0P",
        "outputId": "788fefe7-88e3-45a9-9d9f-0bf215cb4f37"
      },
      "execution_count": 49,
      "outputs": [
        {
          "output_type": "stream",
          "name": "stdout",
          "text": [
            "Score with all features: 0.885\n",
            "Score with selected features: 0.910\n"
          ]
        }
      ]
    },
    {
      "cell_type": "markdown",
      "source": [
        "### **Saving The final dataset**"
      ],
      "metadata": {
        "id": "lMca6zmZHlH2"
      }
    },
    {
      "cell_type": "code",
      "source": [
        "feature_names = list(new_data.columns.values)\n",
        "\n",
        "mask = bestfeatures.get_support()\n",
        "features_for_final_data = []\n",
        "for b, f in zip(mask, feature_names):\n",
        "  if b:\n",
        "    features_for_final_data.append(f)\n",
        "\n",
        "features_for_final_data.append('class')"
      ],
      "metadata": {
        "id": "-_j97FfKHnjG"
      },
      "execution_count": 50,
      "outputs": []
    },
    {
      "cell_type": "code",
      "source": [
        "final_data = pd.DataFrame(new_data, columns= features_for_final_data)"
      ],
      "metadata": {
        "id": "AKHGRDWwHq4i"
      },
      "execution_count": 27,
      "outputs": []
    },
    {
      "cell_type": "code",
      "source": [
        "final_data.head()"
      ],
      "metadata": {
        "colab": {
          "base_uri": "https://localhost:8080/",
          "height": 206
        },
        "id": "a3rUj-HtHsax",
        "outputId": "73ec804c-f700-4cfe-9387-2dbc9c21bca9"
      },
      "execution_count": 51,
      "outputs": [
        {
          "output_type": "execute_result",
          "data": {
            "text/plain": [
              "         V3        V4        V8       V10       V11       V12       V13  \\\n",
              "0 -0.650588 -0.996032  0.633016 -0.362707  0.527911  0.505396 -0.742107   \n",
              "1 -1.514760  0.115021 -0.264353  0.028747 -1.208334  0.838156  1.511476   \n",
              "2  1.573127  0.687266 -1.098608  1.404677  1.346697  0.140822  0.159637   \n",
              "3  0.555143 -0.629355 -0.032659  0.619206  0.103615 -1.067971 -1.227629   \n",
              "4  0.615391 -0.561114 -0.097430 -1.033567 -0.706095 -0.612354 -0.336939   \n",
              "\n",
              "        V14       V15       V17       V19       V20       V21       V25  class  \n",
              "0  0.492430 -0.163585  0.262987 -0.939037 -0.062612 -0.062489 -0.889690    NaN  \n",
              "1 -0.042076 -0.002894 -0.658905  0.431762 -0.086076 -0.329368 -0.135785    NaN  \n",
              "2 -1.147153  0.664997 -1.267675  0.405276  0.052960  0.015324 -0.171733    NaN  \n",
              "3  0.197196  1.151364  0.710309  0.130406 -0.066712 -0.014814  0.151810    NaN  \n",
              "4 -1.384147  0.314279  0.512582 -0.163736 -0.073333 -0.221533  0.679496    NaN  "
            ],
            "text/html": [
              "\n",
              "  <div id=\"df-ae6ed7d1-5424-41f7-bc51-d8f4f9206be1\">\n",
              "    <div class=\"colab-df-container\">\n",
              "      <div>\n",
              "<style scoped>\n",
              "    .dataframe tbody tr th:only-of-type {\n",
              "        vertical-align: middle;\n",
              "    }\n",
              "\n",
              "    .dataframe tbody tr th {\n",
              "        vertical-align: top;\n",
              "    }\n",
              "\n",
              "    .dataframe thead th {\n",
              "        text-align: right;\n",
              "    }\n",
              "</style>\n",
              "<table border=\"1\" class=\"dataframe\">\n",
              "  <thead>\n",
              "    <tr style=\"text-align: right;\">\n",
              "      <th></th>\n",
              "      <th>V3</th>\n",
              "      <th>V4</th>\n",
              "      <th>V8</th>\n",
              "      <th>V10</th>\n",
              "      <th>V11</th>\n",
              "      <th>V12</th>\n",
              "      <th>V13</th>\n",
              "      <th>V14</th>\n",
              "      <th>V15</th>\n",
              "      <th>V17</th>\n",
              "      <th>V19</th>\n",
              "      <th>V20</th>\n",
              "      <th>V21</th>\n",
              "      <th>V25</th>\n",
              "      <th>class</th>\n",
              "    </tr>\n",
              "  </thead>\n",
              "  <tbody>\n",
              "    <tr>\n",
              "      <th>0</th>\n",
              "      <td>-0.650588</td>\n",
              "      <td>-0.996032</td>\n",
              "      <td>0.633016</td>\n",
              "      <td>-0.362707</td>\n",
              "      <td>0.527911</td>\n",
              "      <td>0.505396</td>\n",
              "      <td>-0.742107</td>\n",
              "      <td>0.492430</td>\n",
              "      <td>-0.163585</td>\n",
              "      <td>0.262987</td>\n",
              "      <td>-0.939037</td>\n",
              "      <td>-0.062612</td>\n",
              "      <td>-0.062489</td>\n",
              "      <td>-0.889690</td>\n",
              "      <td>NaN</td>\n",
              "    </tr>\n",
              "    <tr>\n",
              "      <th>1</th>\n",
              "      <td>-1.514760</td>\n",
              "      <td>0.115021</td>\n",
              "      <td>-0.264353</td>\n",
              "      <td>0.028747</td>\n",
              "      <td>-1.208334</td>\n",
              "      <td>0.838156</td>\n",
              "      <td>1.511476</td>\n",
              "      <td>-0.042076</td>\n",
              "      <td>-0.002894</td>\n",
              "      <td>-0.658905</td>\n",
              "      <td>0.431762</td>\n",
              "      <td>-0.086076</td>\n",
              "      <td>-0.329368</td>\n",
              "      <td>-0.135785</td>\n",
              "      <td>NaN</td>\n",
              "    </tr>\n",
              "    <tr>\n",
              "      <th>2</th>\n",
              "      <td>1.573127</td>\n",
              "      <td>0.687266</td>\n",
              "      <td>-1.098608</td>\n",
              "      <td>1.404677</td>\n",
              "      <td>1.346697</td>\n",
              "      <td>0.140822</td>\n",
              "      <td>0.159637</td>\n",
              "      <td>-1.147153</td>\n",
              "      <td>0.664997</td>\n",
              "      <td>-1.267675</td>\n",
              "      <td>0.405276</td>\n",
              "      <td>0.052960</td>\n",
              "      <td>0.015324</td>\n",
              "      <td>-0.171733</td>\n",
              "      <td>NaN</td>\n",
              "    </tr>\n",
              "    <tr>\n",
              "      <th>3</th>\n",
              "      <td>0.555143</td>\n",
              "      <td>-0.629355</td>\n",
              "      <td>-0.032659</td>\n",
              "      <td>0.619206</td>\n",
              "      <td>0.103615</td>\n",
              "      <td>-1.067971</td>\n",
              "      <td>-1.227629</td>\n",
              "      <td>0.197196</td>\n",
              "      <td>1.151364</td>\n",
              "      <td>0.710309</td>\n",
              "      <td>0.130406</td>\n",
              "      <td>-0.066712</td>\n",
              "      <td>-0.014814</td>\n",
              "      <td>0.151810</td>\n",
              "      <td>NaN</td>\n",
              "    </tr>\n",
              "    <tr>\n",
              "      <th>4</th>\n",
              "      <td>0.615391</td>\n",
              "      <td>-0.561114</td>\n",
              "      <td>-0.097430</td>\n",
              "      <td>-1.033567</td>\n",
              "      <td>-0.706095</td>\n",
              "      <td>-0.612354</td>\n",
              "      <td>-0.336939</td>\n",
              "      <td>-1.384147</td>\n",
              "      <td>0.314279</td>\n",
              "      <td>0.512582</td>\n",
              "      <td>-0.163736</td>\n",
              "      <td>-0.073333</td>\n",
              "      <td>-0.221533</td>\n",
              "      <td>0.679496</td>\n",
              "      <td>NaN</td>\n",
              "    </tr>\n",
              "  </tbody>\n",
              "</table>\n",
              "</div>\n",
              "      <button class=\"colab-df-convert\" onclick=\"convertToInteractive('df-ae6ed7d1-5424-41f7-bc51-d8f4f9206be1')\"\n",
              "              title=\"Convert this dataframe to an interactive table.\"\n",
              "              style=\"display:none;\">\n",
              "        \n",
              "  <svg xmlns=\"http://www.w3.org/2000/svg\" height=\"24px\"viewBox=\"0 0 24 24\"\n",
              "       width=\"24px\">\n",
              "    <path d=\"M0 0h24v24H0V0z\" fill=\"none\"/>\n",
              "    <path d=\"M18.56 5.44l.94 2.06.94-2.06 2.06-.94-2.06-.94-.94-2.06-.94 2.06-2.06.94zm-11 1L8.5 8.5l.94-2.06 2.06-.94-2.06-.94L8.5 2.5l-.94 2.06-2.06.94zm10 10l.94 2.06.94-2.06 2.06-.94-2.06-.94-.94-2.06-.94 2.06-2.06.94z\"/><path d=\"M17.41 7.96l-1.37-1.37c-.4-.4-.92-.59-1.43-.59-.52 0-1.04.2-1.43.59L10.3 9.45l-7.72 7.72c-.78.78-.78 2.05 0 2.83L4 21.41c.39.39.9.59 1.41.59.51 0 1.02-.2 1.41-.59l7.78-7.78 2.81-2.81c.8-.78.8-2.07 0-2.86zM5.41 20L4 18.59l7.72-7.72 1.47 1.35L5.41 20z\"/>\n",
              "  </svg>\n",
              "      </button>\n",
              "      \n",
              "  <style>\n",
              "    .colab-df-container {\n",
              "      display:flex;\n",
              "      flex-wrap:wrap;\n",
              "      gap: 12px;\n",
              "    }\n",
              "\n",
              "    .colab-df-convert {\n",
              "      background-color: #E8F0FE;\n",
              "      border: none;\n",
              "      border-radius: 50%;\n",
              "      cursor: pointer;\n",
              "      display: none;\n",
              "      fill: #1967D2;\n",
              "      height: 32px;\n",
              "      padding: 0 0 0 0;\n",
              "      width: 32px;\n",
              "    }\n",
              "\n",
              "    .colab-df-convert:hover {\n",
              "      background-color: #E2EBFA;\n",
              "      box-shadow: 0px 1px 2px rgba(60, 64, 67, 0.3), 0px 1px 3px 1px rgba(60, 64, 67, 0.15);\n",
              "      fill: #174EA6;\n",
              "    }\n",
              "\n",
              "    [theme=dark] .colab-df-convert {\n",
              "      background-color: #3B4455;\n",
              "      fill: #D2E3FC;\n",
              "    }\n",
              "\n",
              "    [theme=dark] .colab-df-convert:hover {\n",
              "      background-color: #434B5C;\n",
              "      box-shadow: 0px 1px 3px 1px rgba(0, 0, 0, 0.15);\n",
              "      filter: drop-shadow(0px 1px 2px rgba(0, 0, 0, 0.3));\n",
              "      fill: #FFFFFF;\n",
              "    }\n",
              "  </style>\n",
              "\n",
              "      <script>\n",
              "        const buttonEl =\n",
              "          document.querySelector('#df-ae6ed7d1-5424-41f7-bc51-d8f4f9206be1 button.colab-df-convert');\n",
              "        buttonEl.style.display =\n",
              "          google.colab.kernel.accessAllowed ? 'block' : 'none';\n",
              "\n",
              "        async function convertToInteractive(key) {\n",
              "          const element = document.querySelector('#df-ae6ed7d1-5424-41f7-bc51-d8f4f9206be1');\n",
              "          const dataTable =\n",
              "            await google.colab.kernel.invokeFunction('convertToInteractive',\n",
              "                                                     [key], {});\n",
              "          if (!dataTable) return;\n",
              "\n",
              "          const docLinkHtml = 'Like what you see? Visit the ' +\n",
              "            '<a target=\"_blank\" href=https://colab.research.google.com/notebooks/data_table.ipynb>data table notebook</a>'\n",
              "            + ' to learn more about interactive tables.';\n",
              "          element.innerHTML = '';\n",
              "          dataTable['output_type'] = 'display_data';\n",
              "          await google.colab.output.renderOutput(dataTable, element);\n",
              "          const docLink = document.createElement('div');\n",
              "          docLink.innerHTML = docLinkHtml;\n",
              "          element.appendChild(docLink);\n",
              "        }\n",
              "      </script>\n",
              "    </div>\n",
              "  </div>\n",
              "  "
            ]
          },
          "metadata": {},
          "execution_count": 51
        }
      ]
    },
    {
      "cell_type": "code",
      "source": [
        "final_data.shape"
      ],
      "metadata": {
        "colab": {
          "base_uri": "https://localhost:8080/"
        },
        "id": "-tG--6uuHtfp",
        "outputId": "f301cd7d-13ae-4b40-914a-e58ea5761c41"
      },
      "execution_count": 52,
      "outputs": [
        {
          "output_type": "execute_result",
          "data": {
            "text/plain": [
              "(199364, 15)"
            ]
          },
          "metadata": {},
          "execution_count": 52
        }
      ]
    },
    {
      "cell_type": "markdown",
      "source": [
        "### **Selecting Model For testing accuracy**"
      ],
      "metadata": {
        "id": "UqQjW3YQHvSG"
      }
    },
    {
      "cell_type": "code",
      "source": [
        "x2 = final_data.drop('class', axis= 1)\n",
        "y2 = final_data['class'].copy()\n",
        "\n",
        "x2 , y2 = make_imbalance(x,y, sampling_strategy={0: 333, 1: 333},random_state=14)\n",
        "\n",
        "x2Train, x2Test, y2Train, y2Test = train_test_split(x2, y2, test_size= 0.3, random_state= 0)"
      ],
      "metadata": {
        "id": "7YSOQoM8HxAu"
      },
      "execution_count": 53,
      "outputs": []
    },
    {
      "cell_type": "code",
      "source": [
        "from sklearn.ensemble import RandomForestClassifier\n",
        "\n",
        "rf1 = RandomForestClassifier(n_estimators= 30, criterion= \"entropy\")\n",
        "rf1.fit(x2Train, y2Train)\n",
        "\n",
        "yPredRF = rf1.predict(x2Test)"
      ],
      "metadata": {
        "id": "IGuyRnADH4n1"
      },
      "execution_count": 54,
      "outputs": []
    },
    {
      "cell_type": "code",
      "source": [
        "import matplotlib.pyplot as mtp\n",
        "from sklearn import metrics\n",
        "\n",
        "print(\"Random Forest (with 10 decision tree) Report\")\n",
        "print(\"Confusion Matrix: \\n\", metrics.confusion_matrix(y2Test, yPredRF))\n",
        "print(\"Accuracy: \", metrics.accuracy_score(y2Test, yPredRF))\n",
        "print(metrics.classification_report(y2Test, yPredRF))\n",
        "\n",
        "yPredRFproba = rf1.predict_proba(x2Test)[:,1]\n",
        "AUCLR = metrics.roc_auc_score(y2Test, yPredRFproba)\n",
        "print(\"AUC Score: \", AUCLR)\n",
        "fprLR, tprLR, thresholdvalues= metrics.roc_curve(y2Test, yPredRFproba)\n",
        "mtp.plot([0,1], [0,1], color='red', linestyle='--')\n",
        "mtp.plot(fprLR, tprLR, label=\"Random Forest (area= \" +str(AUCLR)+\")\")\n",
        "mtp.xlabel(\"False Positive Rate\")\n",
        "mtp.ylabel(\"True Positive Rate\")\n",
        "mtp.legend(loc=\"lower right\")\n",
        "mtp.show()"
      ],
      "metadata": {
        "colab": {
          "base_uri": "https://localhost:8080/",
          "height": 539
        },
        "id": "6ArYue_hH7PZ",
        "outputId": "b1f71004-f266-4e82-9e66-58d2828a935e"
      },
      "execution_count": 55,
      "outputs": [
        {
          "output_type": "stream",
          "name": "stdout",
          "text": [
            "Random Forest (with 10 decision tree) Report\n",
            "Confusion Matrix: \n",
            " [[99  1]\n",
            " [ 9 91]]\n",
            "Accuracy:  0.95\n",
            "              precision    recall  f1-score   support\n",
            "\n",
            "           0       0.92      0.99      0.95       100\n",
            "           1       0.99      0.91      0.95       100\n",
            "\n",
            "    accuracy                           0.95       200\n",
            "   macro avg       0.95      0.95      0.95       200\n",
            "weighted avg       0.95      0.95      0.95       200\n",
            "\n",
            "AUC Score:  0.9907499999999999\n"
          ]
        },
        {
          "output_type": "display_data",
          "data": {
            "text/plain": [
              "<Figure size 432x288 with 1 Axes>"
            ],
            "image/png": "[encoded data removed]"
          },
          "metadata": {
            "needs_background": "light"
          }
        }
      ]
    },
    {
      "cell_type": "code",
      "source": [
        "from sklearn.linear_model import LogisticRegression\n",
        "\n",
        "lgr = LogisticRegression(random_state=0)\n",
        "lgr.fit(x2Train, y2Train)\n",
        "\n",
        "yPrdclgr = lgr.predict(x2Test)\n",
        "\n",
        "print(\"Logistic Regression Report\")\n",
        "print(\"Confusion Matrix: \\n\", metrics.confusion_matrix(y2Test, yPrdclgr))\n",
        "print(\"Accuracy: \", metrics.accuracy_score(y2Test, yPrdclgr))\n",
        "print(metrics.classification_report(y2Test, yPrdclgr))\n",
        "\n",
        "yPredlgrproba = lgr.predict_proba(x2Test)[:,1]\n",
        "AUCLR = metrics.roc_auc_score(y2Test, yPredlgrproba)\n",
        "print(\"AUC Score: \", AUCLR)\n",
        "fprLR, tprLR, thresholdvalues= metrics.roc_curve(y2Test, yPredlgrproba)\n",
        "mtp.plot([0,1], [0,1], color='red', linestyle='--')\n",
        "mtp.plot(fprLR, tprLR, label=\"Logistic Regression (area= \" +str(AUCLR)+\")\")\n",
        "mtp.xlabel(\"False Positive Rate\")\n",
        "mtp.ylabel(\"True Positive Rate\")\n",
        "mtp.legend(loc=\"lower right\")\n",
        "mtp.show()"
      ],
      "metadata": {
        "colab": {
          "base_uri": "https://localhost:8080/",
          "height": 539
        },
        "id": "0BTlhtTsH92Z",
        "outputId": "d8d62213-b33d-4f59-b909-049268853cd7"
      },
      "execution_count": 56,
      "outputs": [
        {
          "output_type": "stream",
          "name": "stdout",
          "text": [
            "Logistic Regression Report\n",
            "Confusion Matrix: \n",
            " [[99  1]\n",
            " [12 88]]\n",
            "Accuracy:  0.935\n",
            "              precision    recall  f1-score   support\n",
            "\n",
            "           0       0.89      0.99      0.94       100\n",
            "           1       0.99      0.88      0.93       100\n",
            "\n",
            "    accuracy                           0.94       200\n",
            "   macro avg       0.94      0.94      0.93       200\n",
            "weighted avg       0.94      0.94      0.93       200\n",
            "\n",
            "AUC Score:  0.9788\n"
          ]
        },
        {
          "output_type": "display_data",
          "data": {
            "text/plain": [
              "<Figure size 432x288 with 1 Axes>"
            ],
            "image/png": "[encoded data removed]"
          },
          "metadata": {
            "needs_background": "light"
          }
        }
      ]
    },
    {
      "cell_type": "code",
      "source": [
        "from sklearn.tree import DecisionTreeClassifier\n",
        "\n",
        "dt = DecisionTreeClassifier(criterion= \"entropy\", random_state= 0)\n",
        "dt.fit(x2Train, y2Train)\n",
        "\n",
        "yPredDT = dt.predict(x2Test)\n",
        "\n",
        "print(\"Decision Tree Report\")\n",
        "print(\"Confusion Matrix: \\n\", metrics.confusion_matrix(y2Test, yPredDT))\n",
        "print(\"Accuracy: \", metrics.accuracy_score(y2Test, yPredDT))\n",
        "print(metrics.classification_report(y2Test, yPredDT))\n",
        "\n",
        "yPredDTproba = dt.predict_proba(x2Test)[:,1]\n",
        "AUCLR = metrics.roc_auc_score(y2Test, yPredDTproba)\n",
        "print(\"AUC Score: \", AUCLR)\n",
        "fprLR, tprLR, thresholdvalues= metrics.roc_curve(y2Test, yPredDTproba)\n",
        "mtp.plot([0,1], [0,1], color='red', linestyle='--')\n",
        "mtp.plot(fprLR, tprLR, label=\"Decision Tree (area= \" +str(AUCLR)+\")\")\n",
        "mtp.xlabel(\"False Positive Rate\")\n",
        "mtp.ylabel(\"True Positive Rate\")\n",
        "mtp.legend(loc=\"lower right\")\n",
        "mtp.show()"
      ],
      "metadata": {
        "colab": {
          "base_uri": "https://localhost:8080/",
          "height": 539
        },
        "id": "BUy9_E8wH_x2",
        "outputId": "4db445a9-7650-4ac1-8bb0-9edc6028dbee"
      },
      "execution_count": 57,
      "outputs": [
        {
          "output_type": "stream",
          "name": "stdout",
          "text": [
            "Decision Tree Report\n",
            "Confusion Matrix: \n",
            " [[92  8]\n",
            " [ 5 95]]\n",
            "Accuracy:  0.935\n",
            "              precision    recall  f1-score   support\n",
            "\n",
            "           0       0.95      0.92      0.93       100\n",
            "           1       0.92      0.95      0.94       100\n",
            "\n",
            "    accuracy                           0.94       200\n",
            "   macro avg       0.94      0.94      0.93       200\n",
            "weighted avg       0.94      0.94      0.93       200\n",
            "\n",
            "AUC Score:  0.935\n"
          ]
        },
        {
          "output_type": "display_data",
          "data": {
            "text/plain": [
              "<Figure size 432x288 with 1 Axes>"
            ],
            "image/png": "[encoded data removed]"
          },
          "metadata": {
            "needs_background": "light"
          }
        }
      ]
    }
  ]
}